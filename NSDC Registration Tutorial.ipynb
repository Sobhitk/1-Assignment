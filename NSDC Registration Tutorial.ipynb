{
  "nbformat": 4,
  "nbformat_minor": 0,
  "metadata": {
    "colab": {
      "provenance": []
    },
    "kernelspec": {
      "name": "python3",
      "display_name": "Python 3"
    },
    "language_info": {
      "name": "python"
    }
  },
  "cells": [
    {
      "cell_type": "markdown",
      "source": [],
      "metadata": {
        "id": "Tg4xn77BypG2"
      }
    },
    {
      "cell_type": "markdown",
      "source": [
        "#  Functions"
      ],
      "metadata": {
        "id": "oYhhs3moyqlX"
      }
    },
    {
      "cell_type": "markdown",
      "source": [
        "1. What is Python, and why is it popular?\n",
        "   -> Python is a high-level, interpreted programming language known for its readability and simplicity.\n",
        "   -> It's Popular\n",
        "    -Easy Syntax\n",
        "    -Large Standard\n",
        "2. What is an interpreter in Python?\n",
        "  ->An interpreter reads and executes code line by line. Python code is interpreted, not compiled, which makes debugging easier.\n",
        "\n",
        "3. What are pre-defined keywords in Python?\n",
        "  ->Keywords are reserved words that Python uses for its syntax (like if, else, for, while, def).\n",
        "\n",
        "4. Can keywords be used as variable names?\n",
        "  -> No, keywords cannot be used as variable names. It will result in a SyntaxError.\n",
        "\n",
        "5. What is mutability in Python?\n",
        "  -> Mutability refers to whether an object can be changed after it's created.\n",
        "\n",
        "   Mutable: Can be changed (e.g., lists, dictionaries)\n",
        "\n",
        "   Immutable: Cannot be changed (e.g., tuples, strings)\n",
        "\n",
        "6. Why are lists mutable but tuples immutable?\n",
        "   -> Lists are designed to store dynamic data that may need updates.\n",
        "   Tuples are used when data should remain unchanged (e.g., days of the week).\n",
        "\n",
        "7. What is the difference between == and is?\n",
        "-> == checks value equality\n",
        "    (is) checks object identity (memory location)\n",
        "\n",
        "8. What are logical operators in Python?\n",
        " ->and - True if both are true\n",
        " or - True if at least one is true\n",
        " not- Reverses boolean value\n",
        "\n",
        "9. What is type casting in Python?\n",
        " ->Type casting converts one data type to another, like int(\"5\").\n",
        "\n",
        "10. Difference between implicit and explicit casting:\n",
        " ->Implicit: Python automatically converts type\n",
        "\n",
        "\n",
        "\n",
        "   "
      ],
      "metadata": {
        "id": "L5ucHipyzHIx"
      }
    },
    {
      "cell_type": "code",
      "source": [
        "x = 5 + 2.5  # x will float 7.5\n"
      ],
      "metadata": {
        "id": "hB5YWxQX1clq"
      },
      "execution_count": null,
      "outputs": []
    },
    {
      "cell_type": "markdown",
      "source": [
        "-> Explicit : Done manually by the programmer"
      ],
      "metadata": {
        "id": "FP7DEAze1nNx"
      }
    },
    {
      "cell_type": "code",
      "source": [
        "x = int(\"5\") # x will be x = 5"
      ],
      "metadata": {
        "id": "yIP7PZI_1z5N"
      },
      "execution_count": null,
      "outputs": []
    },
    {
      "cell_type": "markdown",
      "source": [
        "11. Purpose of conditional statements in Python?\n",
        "   ->To make decisions based on conditions using if, elif, and else.\n",
        "\n",
        "12. How does elif work?\n",
        "  -> elif stands for else if. It checks another condition if the previous if was False.\n",
        "\n",
        "13. Difference between for and while loops:\n",
        "  ->for: Iterate over a sequence\n",
        "  while: Repeats as long as a condition is True\n",
        "\n",
        "14. When is a while loop more suitable?\n",
        "   ->When you don’t know in advance how many times to loop (e.g., input until correct).\n",
        "\n",
        "\n"
      ],
      "metadata": {
        "id": "ahTwbqJa18uD"
      }
    },
    {
      "cell_type": "markdown",
      "source": [
        "# Practical Python Question\n"
      ],
      "metadata": {
        "id": "ZUM1gIUw2cGp"
      }
    },
    {
      "cell_type": "markdown",
      "source": [
        "1. Print \"hello world\""
      ],
      "metadata": {
        "id": "QzlS70jk3jrk"
      }
    },
    {
      "cell_type": "code",
      "source": [
        "print(\"Hello, World\")"
      ],
      "metadata": {
        "id": "2hCLiYp_2iwm"
      },
      "execution_count": null,
      "outputs": []
    },
    {
      "cell_type": "markdown",
      "source": [
        "2. Display name and age"
      ],
      "metadata": {
        "id": "Kl2MqWtQ4b1L"
      }
    },
    {
      "cell_type": "code",
      "source": [
        "name = \"Sobhit\"\n",
        "age = 23\n",
        "print (f\"My name is {name}, and I am {age} years old.\")"
      ],
      "metadata": {
        "colab": {
          "base_uri": "https://localhost:8080/"
        },
        "id": "EE33bduJ3wmJ",
        "outputId": "affc7c2a-d431-4db8-a5f9-1887c09d4d09"
      },
      "execution_count": 5,
      "outputs": [
        {
          "output_type": "stream",
          "name": "stdout",
          "text": [
            "My name is Sobhit, and I am 23 years old.\n"
          ]
        }
      ]
    },
    {
      "cell_type": "markdown",
      "source": [
        "3. print all python keywords"
      ],
      "metadata": {
        "id": "28pOm0y94hX3"
      }
    },
    {
      "cell_type": "code",
      "source": [
        "import keyword\n",
        "print (keyword.kwlist)"
      ],
      "metadata": {
        "colab": {
          "base_uri": "https://localhost:8080/"
        },
        "id": "fdO8u36Q4KoS",
        "outputId": "c2e1b457-5d8f-450a-a506-bb7f889bf291"
      },
      "execution_count": 3,
      "outputs": [
        {
          "output_type": "stream",
          "name": "stdout",
          "text": [
            "['False', 'None', 'True', 'and', 'as', 'assert', 'async', 'await', 'break', 'class', 'continue', 'def', 'del', 'elif', 'else', 'except', 'finally', 'for', 'from', 'global', 'if', 'import', 'in', 'is', 'lambda', 'nonlocal', 'not', 'or', 'pass', 'raise', 'return', 'try', 'while', 'with', 'yield']\n"
          ]
        }
      ]
    },
    {
      "cell_type": "markdown",
      "source": [
        "4. check if a word is a python keyword"
      ],
      "metadata": {
        "id": "AjuQD_GS5Mou"
      }
    },
    {
      "cell_type": "code",
      "source": [
        "import keyword\n",
        "word = input(\"Enter a word: \")\n",
        "print(f\"{word} is a keyword: {keyword.iskeyword(word)}\")"
      ],
      "metadata": {
        "colab": {
          "base_uri": "https://localhost:8080/"
        },
        "id": "hZnQKB8i3uiq",
        "outputId": "98b381be-50ec-40b5-85c7-88f1c0fda5b2"
      },
      "execution_count": 10,
      "outputs": [
        {
          "output_type": "stream",
          "name": "stdout",
          "text": [
            "Enter a word: we\n",
            "we is a keyword: False\n"
          ]
        }
      ]
    },
    {
      "cell_type": "markdown",
      "source": [
        "5. Demonstrate mutable vs immutable"
      ],
      "metadata": {
        "id": "oJuXg56F5Xof"
      }
    },
    {
      "cell_type": "code",
      "source": [
        "def modify_data(lst, tup):\n",
        "    lst[0] = 'Changed'  # Works\n",
        "    try:\n",
        "        tup[0] = 'Changed'  # Error\n",
        "    except TypeError:\n",
        "        print(\"Tuples are immutable.\")\n",
        "\n",
        "modify_data(['a', 'b'], ('x', 'y'))\n"
      ],
      "metadata": {
        "colab": {
          "base_uri": "https://localhost:8080/"
        },
        "id": "Ob2G4yce47ea",
        "outputId": "44f3f81b-9750-49da-a9bf-a150032a9fab"
      },
      "execution_count": 11,
      "outputs": [
        {
          "output_type": "stream",
          "name": "stdout",
          "text": [
            "Tuples are immutable.\n"
          ]
        }
      ]
    },
    {
      "cell_type": "code",
      "source": [],
      "metadata": {
        "id": "kkG1kEkv5Vhp"
      },
      "execution_count": null,
      "outputs": []
    },
    {
      "cell_type": "markdown",
      "source": [
        "6. Basic arithmetic opertaions"
      ],
      "metadata": {
        "id": "xL4YQqV15gnW"
      }
    },
    {
      "cell_type": "code",
      "source": [
        "a = int(input(\"Enter first number: \"))\n",
        "b = int(input(\"Enter second number: \"))\n",
        "print(\"Sum:\", a + b)\n",
        "print(\"Difference:\", a - b)\n",
        "print(\"Product:\", a * b)\n",
        "print(\"Quotient:\", a / b)\n"
      ],
      "metadata": {
        "colab": {
          "base_uri": "https://localhost:8080/"
        },
        "id": "DvdI5VQt5mbn",
        "outputId": "fb084cae-a704-4d03-c2f4-ea6a47a8109b"
      },
      "execution_count": 12,
      "outputs": [
        {
          "output_type": "stream",
          "name": "stdout",
          "text": [
            "Enter first number: 2\n",
            "Enter second number: 4\n",
            "Sum: 6\n",
            "Difference: -2\n",
            "Product: 8\n",
            "Quotient: 0.5\n"
          ]
        }
      ]
    },
    {
      "cell_type": "code",
      "source": [
        "7. Logical operators"
      ],
      "metadata": {
        "id": "CSQaVXUa5wca"
      },
      "execution_count": null,
      "outputs": []
    },
    {
      "cell_type": "code",
      "source": [
        "x = 5\n",
        "print(x > 3 and x < 10)  # True\n",
        "print(not (x > 3))       # False\n"
      ],
      "metadata": {
        "colab": {
          "base_uri": "https://localhost:8080/"
        },
        "id": "BJ7MyriT5oZT",
        "outputId": "a0738f7f-8f50-4a4a-8400-bef35289e32d"
      },
      "execution_count": 13,
      "outputs": [
        {
          "output_type": "stream",
          "name": "stdout",
          "text": [
            "True\n",
            "False\n"
          ]
        }
      ]
    },
    {
      "cell_type": "markdown",
      "source": [
        "8. List and tuple example"
      ],
      "metadata": {
        "id": "sL0Pl4BG6GcD"
      }
    },
    {
      "cell_type": "code",
      "source": [
        "my_list = [1, 2, 3]\n",
        "my_list[0] = 99\n",
        "my_tuple = (1, 2, 3)\n"
      ],
      "metadata": {
        "id": "jXIc8wQm5vGG"
      },
      "execution_count": 16,
      "outputs": []
    },
    {
      "cell_type": "markdown",
      "source": [
        "9. Covert input to int , float, bool"
      ],
      "metadata": {
        "id": "n73UKfY77Lfk"
      }
    },
    {
      "cell_type": "code",
      "source": [
        "value = input(\"Enter value: \")\n",
        "print(int(value))\n",
        "print(float(value))\n",
        "print(bool(value))\n"
      ],
      "metadata": {
        "colab": {
          "base_uri": "https://localhost:8080/"
        },
        "id": "O5EexueB6FJH",
        "outputId": "e29c0349-737f-4d9d-972c-3114e25fe9da"
      },
      "execution_count": 17,
      "outputs": [
        {
          "output_type": "stream",
          "name": "stdout",
          "text": [
            "Enter value: 12\n",
            "12\n",
            "12.0\n",
            "True\n"
          ]
        }
      ]
    },
    {
      "cell_type": "markdown",
      "source": [
        "10. Type caste list elements"
      ],
      "metadata": {
        "id": "WFLlQbDj7aBj"
      }
    },
    {
      "cell_type": "code",
      "source": [
        "str_list = ['1', '2', '3']\n",
        "int_list = list(map(int, str_list))\n",
        "print(int_list)\n"
      ],
      "metadata": {
        "colab": {
          "base_uri": "https://localhost:8080/"
        },
        "id": "PJrvvoyN7Ziw",
        "outputId": "9a294f15-f0dc-44f9-94c1-2e3dda43a27f"
      },
      "execution_count": 18,
      "outputs": [
        {
          "output_type": "stream",
          "name": "stdout",
          "text": [
            "[1, 2, 3]\n"
          ]
        }
      ]
    },
    {
      "cell_type": "code",
      "source": [],
      "metadata": {
        "id": "g4WdoLS47mDO"
      },
      "execution_count": null,
      "outputs": []
    },
    {
      "cell_type": "markdown",
      "source": [
        "11. Check if a number is +,-.or 0"
      ],
      "metadata": {
        "id": "_2e0Incn7nIC"
      }
    },
    {
      "cell_type": "code",
      "source": [
        "num = int(input(\"Enter a number: \"))\n",
        "if num > 0:\n",
        "    print(\"Positive\")\n",
        "elif num < 0:\n",
        "    print(\"Negative\")\n",
        "else:\n",
        "    print(\"Zero\")\n"
      ],
      "metadata": {
        "colab": {
          "base_uri": "https://localhost:8080/"
        },
        "id": "ryPvdycN7tpz",
        "outputId": "f361ee1d-9281-4f63-fb73-262db253f128"
      },
      "execution_count": 19,
      "outputs": [
        {
          "output_type": "stream",
          "name": "stdout",
          "text": [
            "Enter a number: 12\n",
            "Positive\n"
          ]
        }
      ]
    },
    {
      "cell_type": "markdown",
      "source": [
        "12. For loop from 1to10"
      ],
      "metadata": {
        "id": "o51XUt8g7zUE"
      }
    },
    {
      "cell_type": "code",
      "source": [
        "for i in range (1, 11 ):\n",
        "  print (i)"
      ],
      "metadata": {
        "colab": {
          "base_uri": "https://localhost:8080/"
        },
        "id": "Krm-GJbg7vWS",
        "outputId": "63455e09-a775-4cae-f9b4-608026a0bef3"
      },
      "execution_count": 20,
      "outputs": [
        {
          "output_type": "stream",
          "name": "stdout",
          "text": [
            "1\n",
            "2\n",
            "3\n",
            "4\n",
            "5\n",
            "6\n",
            "7\n",
            "8\n",
            "9\n",
            "10\n"
          ]
        }
      ]
    },
    {
      "cell_type": "markdown",
      "source": [
        "13. Sum of even numbers from 1 to 50"
      ],
      "metadata": {
        "id": "vzPYrqIU8AO1"
      }
    },
    {
      "cell_type": "code",
      "source": [
        "total = 0\n",
        "for i in range(2, 51, 2):\n",
        "    total += i\n",
        "print(\"Sum:\", total)\n"
      ],
      "metadata": {
        "colab": {
          "base_uri": "https://localhost:8080/"
        },
        "id": "9dyBtsIG7_5n",
        "outputId": "3c9bad9c-e4ee-4d09-8614-af0189b39dad"
      },
      "execution_count": 21,
      "outputs": [
        {
          "output_type": "stream",
          "name": "stdout",
          "text": [
            "Sum: 650\n"
          ]
        }
      ]
    },
    {
      "cell_type": "markdown",
      "source": [
        "14. Reverse a string using while loop"
      ],
      "metadata": {
        "id": "GH4TKm2O8Ke0"
      }
    },
    {
      "cell_type": "code",
      "source": [
        "s = input(\"Enter a string:\")\n",
        "i = len(s) - 1\n",
        "while i >= 0:\n",
        "  print (s[i], end=\"\")\n",
        "  i -=1"
      ],
      "metadata": {
        "colab": {
          "base_uri": "https://localhost:8080/"
        },
        "id": "eFbC2DX07_B9",
        "outputId": "3e7f1335-355f-4090-f5c1-33b172ee7b66"
      },
      "execution_count": 22,
      "outputs": [
        {
          "output_type": "stream",
          "name": "stdout",
          "text": [
            "Enter a string:hello\n",
            "olleh"
          ]
        }
      ]
    },
    {
      "cell_type": "markdown",
      "source": [
        "15. Factorial using while loop"
      ],
      "metadata": {
        "id": "dQC97-C-8ri4"
      }
    },
    {
      "cell_type": "code",
      "source": [
        "n = int(input(\"Enter a number: \"))\n",
        "fact = 1\n",
        "while n > 1:\n",
        "    fact *= n\n",
        "    n -= 1\n",
        "print(\"Factorial: \", fact)\n"
      ],
      "metadata": {
        "colab": {
          "base_uri": "https://localhost:8080/"
        },
        "id": "b8R6jB3t8naw",
        "outputId": "6d3b92b4-52b9-484c-d4a7-5c0b23eb5c32"
      },
      "execution_count": 29,
      "outputs": [
        {
          "output_type": "stream",
          "name": "stdout",
          "text": [
            "Enter a number: 10\n",
            "Factorial:  3628800\n"
          ]
        }
      ]
    },
    {
      "cell_type": "code",
      "source": [],
      "metadata": {
        "id": "CMY925DS8yFL"
      },
      "execution_count": null,
      "outputs": []
    }
  ]
}